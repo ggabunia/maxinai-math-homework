{
 "cells": [
  {
   "cell_type": "code",
   "execution_count": 1,
   "metadata": {},
   "outputs": [],
   "source": [
    "%load_ext autoreload\n",
    "%autoreload 2\n",
    "\n",
    "%matplotlib inline"
   ]
  },
  {
   "cell_type": "markdown",
   "metadata": {},
   "source": [
    "## Basic setup"
   ]
  },
  {
   "cell_type": "markdown",
   "metadata": {},
   "source": [
    "Create anaconda environment\n",
    "<br>\n",
    "```bash\n",
    "conda create -n ml python=3.7.4 jupyter\n",
    "```\n",
    "Install fastai library\n",
    "<br>\n",
    "```bash\n",
    "conda install -c pytorch -c fastai fastai\n",
    "```"
   ]
  },
  {
   "cell_type": "code",
   "execution_count": null,
   "metadata": {},
   "outputs": [],
   "source": [
    "!pip install https://github.com/ipython-contrib/jupyter_contrib_nbextensions/tarball/master\n",
    "!pip install jupyter_nbextensions_configurator\n",
    "!jupyter contrib nbextension install --user\n",
    "!jupyter nbextensions_configurator enable --user"
   ]
  },
  {
   "cell_type": "markdown",
   "metadata": {},
   "source": [
    "# Metric spaces"
   ]
  },
  {
   "cell_type": "markdown",
   "metadata": {},
   "source": [
    "#### Prove that:\n",
    "For every metric space (X, d):\n",
    "- For eny $\\mathcal{U} = \\{U | U$ is open in $(X, d)\\}$ holds $\\bigcup_{U \\in \\mathcal{U}} U$ is open in $(X, d)$\n",
    "- For eny two $U, V \\subset X$ open in $(X, d)$ holds: $U \\cap V$ is open in $(X, d)$\n",
    "- $X$ is open in $(X, d)$\n",
    "- $\\emptyset$ is open in $(X, d)$"
   ]
  },
  {
   "cell_type": "markdown",
   "metadata": {},
   "source": [
    "##### Proof 1\n",
    "- let $x \\in \\mathcal{U}$. \n",
    "- Then $x \\in U_i$ for some i. \n",
    "- Then $\\exists \\epsilon > 0$ such that $B_{\\epsilon}(x) \\subseteq U_i$.\n",
    "- Since $B_{\\epsilon}(x) \\subseteq U_i$ and $U_i \\subseteq  \\mathcal{U}$, We get $B_{\\epsilon}(x) \\subseteq \\mathcal{U}$ for any x\n",
    "\n",
    "QED."
   ]
  },
  {
   "cell_type": "markdown",
   "metadata": {},
   "source": [
    "##### Proof 2\n",
    "- let $x \\in  U \\cap V$\n",
    "- Then:\n",
    "    -  $\\exists \\epsilon_{U} > 0$  such that $B_{\\epsilon_{U}}(x) \\subseteq U$\n",
    "    -  $\\exists \\epsilon_{V} > 0$ such that  $B_{\\epsilon_{V}}(x) \\subseteq V$\n",
    "- Let $\\epsilon = min(\\epsilon_{U}, \\epsilon_{V}$\n",
    "- Then \n",
    "    - $B_{\\epsilon}(x) \\subseteq B_{\\epsilon_{U}}(x) \\subseteq U$\n",
    "    - $B_{\\epsilon}(x) \\subseteq B_{\\epsilon_{V}}(x) \\subseteq V$\n",
    "- Thus $B_{\\epsilon}(x) \\subseteq U \\cap V$\n",
    "\n",
    "QED."
   ]
  },
  {
   "cell_type": "markdown",
   "metadata": {},
   "source": [
    "##### Proof 3\n",
    "- let $x \\in X$\n",
    "- By definition $B_{\\epsilon} (x) = \\{y \\in X | d(x,y)<\\epsilon\\}$\n",
    "- Since X is the whole space, every y belongs in X. \n",
    "- So, every $B_{\\epsilon} (x)$ for any x is subset of X. Thus, X is open.\n",
    "\n",
    "QED."
   ]
  },
  {
   "cell_type": "markdown",
   "metadata": {},
   "source": [
    "##### Proof 4\n",
    "- let U and V be open sets, such that $U \\cap V = \\emptyset$\n",
    "- As Proven in Proof 2, intersection of two open sets is open.\n",
    "- Thus, $\\emptyset$ is open\n",
    "\n",
    "QED.\n"
   ]
  },
  {
   "cell_type": "markdown",
   "metadata": {},
   "source": [
    "# Prove that:\n",
    "- For eny finity set $(U)_{i=1}^{n}$ of open sets in $(X, d)$, $\\bigcap_{i=1}^{n}U$ is open in $(X, d)$"
   ]
  },
  {
   "cell_type": "markdown",
   "metadata": {},
   "source": [
    "##### Proof:\n",
    "- let $x \\in \\bigcap_{i=1}^{n}U$\n",
    "- for any $i \\in [1,..n], x \\in U_{i}$ \n",
    "- So, $\\exists \\epsilon_{i} > 0$ such that $B_{\\epsilon_{i}} (x) \\subseteq U_i$\n",
    "- let $\\epsilon = min\\{\\epsilon_i\\}$\n",
    "- Then $B_{\\epsilon} (x) \\subseteq B_{\\epsilon_i} \\subseteq U_{i}$ for any i\n",
    "- Thus, $B_{\\epsilon} (x) \\subseteq \\bigcap_{i=1}^{n}U$\n",
    "\n",
    "QED."
   ]
  },
  {
   "cell_type": "markdown",
   "metadata": {},
   "source": [
    "#### Prove that for set $U \\subset X$ is open if and only if for each point $x \\in U$ there exists the open neighbourhood $V$ of $x$ such that $V \\subset U$"
   ]
  },
  {
   "cell_type": "markdown",
   "metadata": {},
   "source": [
    "##### Proof:\n",
    "###### Necessary Condition\n",
    "- If U is open, for any $x \\in U$ exists $\\epsilon$ such that $B_{\\epsilon} (x) = \\{y \\in X | d(x,y)<\\epsilon\\}$\n",
    "- For any $x \\in U$ let $V = B(x)$\n",
    "- Since $B(x)$ is open, V will be open. Since any $B(x) \\subseteq U$, we will get $V \\subseteq U$ \n",
    "\n",
    "###### Suffcient Condition\n",
    "- Let's assume that any x has an open neighborhood V.\n",
    "- Let  $U = \\cup V$ for any x.\n",
    "- Since U is a union of open sets, it will also be open (as proven above).\n",
    "- Thus, U will be an open set\n",
    "\n",
    "QED\n"
   ]
  },
  {
   "cell_type": "markdown",
   "metadata": {},
   "source": [
    "#### Prove that, closed ball is closed subset in $(X, d)$\n"
   ]
  },
  {
   "cell_type": "markdown",
   "metadata": {},
   "source": [
    "##### Proof:\n",
    "Show that  complement of Ball $\\bar{B}_{\\epsilon}(x)$ is open:\n",
    "\n",
    "- let $a \\in X \\setminus \\bar{B}_{\\epsilon}(x)$\n",
    "- Then, by definition, $d(x,a) > \\epsilon$\n",
    "- Then $\\delta := d(x,a)-\\epsilon > 0$\n",
    "- Then $d(x,a)- \\delta = \\epsilon$\n",
    "- Let $b \\in B_{\\delta}(a)$\n",
    "- Then $d(x,b) \\geq d(x,a) - d(a,b) > d(x,a) -\\delta = \\epsilon$ \n",
    "- Thus, $b \\notin \\bar{B}_{\\epsilon}(x)$\n",
    "- Then $B_{\\delta}(a) \\subseteq X \\setminus \\bar{B}_{\\epsilon}(x)$\n",
    "- Thus, $X \\setminus \\bar{B}_{\\epsilon}(x)$ is opean, so $\\bar{B}_{\\epsilon}(x)$ is closed.\n",
    "\n",
    "QED.\n"
   ]
  },
  {
   "cell_type": "markdown",
   "metadata": {},
   "source": [
    "#### Prove that\n",
    "For every metric space (X, d):\n",
    "- For eny $\\mathcal{F} = \\{F | F$ is closed in $(X, d)\\}$ holds $\\bigcap_{F \\in \\mathcal{F}} F$ is closed in $(X, d)$\n",
    "- For eny two $F_1, F_2 \\subset X$ closed in $(X, d)$ holds: $F_1 \\cup F_2$ is closed in $(X, d)$\n",
    "- $X$ is closed in $(X, d)$\n",
    "- $\\emptyset$ is closed in $(X, d)$"
   ]
  },
  {
   "cell_type": "markdown",
   "metadata": {},
   "source": [
    "##### Proof 1:\n",
    "\n",
    "- for each $F_i$ in $\\mathcal{F}$:\n",
    "    - $X \\setminus \\mathcal{F} = X \\setminus \\bigcap F_i = \\bigcup X \\setminus F_i$ \n",
    "- Be definition, each $X \\setminus F_i$ is open.\n",
    "- The union of open sets is open, so $\\bigcup X \\setminus F_i = X \\setminus \\bigcap F_i$ is open.\n",
    "- Since the complement of $\\bigcap F_i = \\mathcal{F}$ is open, $\\mathcal{F}$ will be closed.\n",
    "\n",
    "QED."
   ]
  },
  {
   "cell_type": "markdown",
   "metadata": {},
   "source": [
    "##### Proof 2:\n",
    "\n",
    "- $X \\setminus (F_1 \\cup F_2) = (X \\setminus F_1) \\cap (X \\setminus F_2)$\n",
    "- $X \\setminus F_1$ and $(X \\setminus F_2)$ are open, so their intersection $(X \\setminus F_1) \\cap (X \\setminus F_2) = X \\setminus (F_1 \\cup F_2)$ will be open.\n",
    "- $X \\setminus (F_1 \\cup F_2)$ is open, Thus $F_1 \\cup F_2$ is closed.\n",
    "\n",
    "QED\n"
   ]
  },
  {
   "cell_type": "markdown",
   "metadata": {},
   "source": [
    "##### Proof 3:\n",
    "\n",
    "- $\\emptyset$ is open as proven above.\n",
    "- $X = X \\setminus \\emptyset$\n",
    "- Thus, complement of X is empty, making X closed.\n",
    "\n",
    "QED."
   ]
  },
  {
   "cell_type": "markdown",
   "metadata": {},
   "source": [
    "##### Proof 4:\n",
    "\n",
    "- As proven before, whole set X is open.\n",
    "- complement of open set is closed.\n",
    "- $X \\setminus X = \\emptyset$\n",
    "- Thus, $\\emptyset$ is a complement to open set, making it closed.\n",
    "\n",
    "QED"
   ]
  },
  {
   "cell_type": "markdown",
   "metadata": {},
   "source": [
    "#### Prove that:\n",
    "- For eny finity set $(F)_{i=1}^{n}$ of closed sets in $(X, d)$, $\\bigcup_{i=1}^{n}F$ is closed in $(X, d)$"
   ]
  },
  {
   "cell_type": "markdown",
   "metadata": {},
   "source": [
    "##### Proof:\n",
    "\n",
    "- $X \\setminus \\bigcup_{i=1}^{n}F_i = \\bigcap_{i=1}^{n} X \\setminus F_i$\n",
    "- each $ X \\setminus F_i$ is open, and the finite intersection of open sets is open, so $\\bigcap_{i=1}^{n} X \\setminus F_i = X \\setminus \\bigcup_{i=1}^{n}F_i$ is also open.\n",
    "- $X \\setminus \\bigcup_{i=1}^{n}F_i$ is open, thus its complement $\\bigcup_{i=1}^{n}F_i$ will be closed.\n",
    "\n",
    "QED\n"
   ]
  },
  {
   "cell_type": "markdown",
   "metadata": {},
   "source": [
    "#### Prove that, if $F \\subset X$ is closed then $X - F$ is open in $(X, d)$ "
   ]
  },
  {
   "cell_type": "markdown",
   "metadata": {},
   "source": [
    "###### Proof:\n",
    "\n",
    "- By definition, a set is closed if its complement is open.\n",
    "- F is closed, $X - F = X \\setminus F$ is its complement. \n",
    "- Thus, X - F is open.\n",
    "\n",
    "QED"
   ]
  },
  {
   "cell_type": "markdown",
   "metadata": {},
   "source": [
    "# Metrics in Euclidean spaces"
   ]
  },
  {
   "cell_type": "markdown",
   "metadata": {},
   "source": [
    "#### Prove that:\n",
    "- for every $u, v \\in \\mathbb{R}^{n}$: $d(u, v) \\geq 0$\n",
    "- for every $v \\in \\mathbb{R}^{n}$: $d(v, v) = 0$\n",
    "- for every $u, v \\in \\mathbb{R}^{n}$: $d(u, v) = d(v, u)$ (symmetry)\n",
    "- for every $u, v, w \\in \\mathbb{R}^{n}$: $d(u, w) \\leq d(v, u) + d(v, w)$ (triangle inequality)"
   ]
  },
  {
   "cell_type": "code",
   "execution_count": null,
   "metadata": {},
   "outputs": [],
   "source": []
  },
  {
   "cell_type": "code",
   "execution_count": null,
   "metadata": {},
   "outputs": [],
   "source": []
  },
  {
   "cell_type": "code",
   "execution_count": null,
   "metadata": {},
   "outputs": [],
   "source": []
  },
  {
   "cell_type": "code",
   "execution_count": null,
   "metadata": {},
   "outputs": [],
   "source": []
  },
  {
   "cell_type": "markdown",
   "metadata": {},
   "source": [
    "#### Prove the same properties hold for $d(u, v) = ||u-v||_1$ ($||u-v||_1 = \\sum_{i = 1}^{n}|u_i - v_i|$)"
   ]
  },
  {
   "cell_type": "code",
   "execution_count": null,
   "metadata": {},
   "outputs": [],
   "source": []
  },
  {
   "cell_type": "markdown",
   "metadata": {},
   "source": [
    "## Sequences and limits"
   ]
  },
  {
   "cell_type": "markdown",
   "metadata": {},
   "source": [
    "#### Prove that $x = \\lim_{n\\to\\infty}{x_n}$ in $(X, d)$ if and only if (iff) for every $r \\in \\mathbb{R}$ there exists $n_0 \\in \\mathbb{N}$ such that: $x_i \\in B(x, r)$ for every $i \\gt n_0$"
   ]
  },
  {
   "cell_type": "code",
   "execution_count": null,
   "metadata": {},
   "outputs": [],
   "source": []
  },
  {
   "cell_type": "markdown",
   "metadata": {},
   "source": [
    "#### Prove that if $x = \\lim_{n\\to\\infty}{x_n}$ and $x \\notin \\{-\\infty, \\infty\\}$ then $(x_i)_{i=1}^{\\infty} = (x_1, x_2, \\dots, x_n)$ is a Cauchy sequence\n",
    "<br>\n",
    "For closed set $F \\subset \\mathbb{R}^n$ and convergent sequence $(x_i)_{i=1}^{\\infty} = (x_1, x_2, \\dots, x_n)$ such that there exists $n_0 \\in \\mathbb{N}$ such that $x_i \\in F$ for each $i \\gt n_0$ then: $\\lim_{n\\to\\infty}{x_n} \\in F$"
   ]
  },
  {
   "cell_type": "code",
   "execution_count": null,
   "metadata": {},
   "outputs": [],
   "source": []
  },
  {
   "cell_type": "markdown",
   "metadata": {},
   "source": [
    "#### Prove that if $F$ is open from previous example, statement does not hold. "
   ]
  },
  {
   "cell_type": "code",
   "execution_count": null,
   "metadata": {},
   "outputs": [],
   "source": []
  },
  {
   "cell_type": "markdown",
   "metadata": {},
   "source": [
    "#### Prove that inherited metric is a metric"
   ]
  },
  {
   "cell_type": "code",
   "execution_count": null,
   "metadata": {},
   "outputs": [],
   "source": []
  },
  {
   "cell_type": "markdown",
   "metadata": {},
   "source": [
    "## Limits of functions"
   ]
  },
  {
   "cell_type": "markdown",
   "metadata": {},
   "source": [
    "Let $f:S \\to Y$ is function between subset $S \\subset X$ of a metric space $(X, d_x)$ and metric space $(Y, d_Y)$\n",
    "- We say that the limit of function $f:(S, d_x) \\to (Y, d_Y)$ between metric spaces in some limit point $c \\in X$ of the subset $S$ is $y \\in Y $if for each open neighborhood of $y \\in V \\subset Y$ there exists the open seighborhood of $c \\in U \\subset X$ such that $f(U \\cap S) \\subset V$\n",
    "<br>\n",
    "This definition is equiualent of definition:\n",
    "<br>\n",
    "- The limit of function $f:(S, d_X) \\to (Y, d_Y)$ between metric spaces in limit point $c \\in X$ of the subset $S$ is $y \\in Y $ if for each open ball $B(x, r) \\subset Y$ there exists the ball $B(c, l) \\subset X$ such that $f(B(c, l) \\cap S) \\subset B(y, r)$\n",
    "<br>\n",
    "or\n",
    "<br>\n",
    "- The limit of function $f:(S, d_X) \\to (Y, d_Y)$ between metric spaces in limit point $c \\in X$ of subset $S$ is $y \\in Y $ if for any $r \\in \\mathbb{R}$ there exists $l \\in \\mathbb{R}$ such that for every $x \\in S$ with $d_X(x, c) < l$ implies that $d_Y(f(x), y) < r$"
   ]
  },
  {
   "cell_type": "markdown",
   "metadata": {},
   "source": [
    "#### Prove that this three definitions are equiualent for eny function between eny two metric spaces"
   ]
  },
  {
   "cell_type": "code",
   "execution_count": null,
   "metadata": {},
   "outputs": [],
   "source": []
  },
  {
   "cell_type": "markdown",
   "metadata": {},
   "source": [
    "## Continuous functions "
   ]
  },
  {
   "cell_type": "markdown",
   "metadata": {},
   "source": [
    "#### Prove that function is continuous in $c$ if for eny sequence $(x_n)_{n=1}^{\\infty} \\subset X$ such that $\\lim_{n \\to \\infty}x_n = c$ we have $\\lim_{n \\to \\infty}f(x_n) = f(c)$"
   ]
  },
  {
   "cell_type": "code",
   "execution_count": null,
   "metadata": {},
   "outputs": [],
   "source": []
  },
  {
   "cell_type": "markdown",
   "metadata": {},
   "source": [
    "#### Prove that function is continuous if for every open set $V \\subset Y$ the $f^{-1}(V)$ is open in $X$"
   ]
  },
  {
   "cell_type": "code",
   "execution_count": null,
   "metadata": {},
   "outputs": [],
   "source": []
  },
  {
   "cell_type": "markdown",
   "metadata": {},
   "source": [
    "#### Prove that function is continuous if for every closed set $F \\subset Y$ the $f^{-1}(F)$ is open in $X$"
   ]
  },
  {
   "cell_type": "code",
   "execution_count": null,
   "metadata": {},
   "outputs": [],
   "source": []
  },
  {
   "cell_type": "markdown",
   "metadata": {},
   "source": [
    "#### Prove that any composition of continous functions is continous"
   ]
  },
  {
   "cell_type": "code",
   "execution_count": null,
   "metadata": {},
   "outputs": [],
   "source": []
  }
 ],
 "metadata": {
  "kernelspec": {
   "display_name": "Python 3",
   "language": "python",
   "name": "python3"
  },
  "language_info": {
   "codemirror_mode": {
    "name": "ipython",
    "version": 3
   },
   "file_extension": ".py",
   "mimetype": "text/x-python",
   "name": "python",
   "nbconvert_exporter": "python",
   "pygments_lexer": "ipython3",
   "version": "3.7.3"
  }
 },
 "nbformat": 4,
 "nbformat_minor": 4
}
